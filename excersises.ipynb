{
  "cells": [
    {
      "cell_type": "code",
      "execution_count": null,
      "metadata": {
        "trusted": true
      },
      "outputs": [],
      "source": [
        "%pip install ipython-sql\n",
        "%pip install tabulate\n",
        "%pip install -q pandas"
      ]
    },
    {
      "cell_type": "code",
      "execution_count": 2,
      "metadata": {
        "trusted": true
      },
      "outputs": [],
      "source": [
        "import csv, sqlite3\n",
        "\n",
        "con = sqlite3.connect(\"ChicagoDataBase.db\")\n",
        "cur = con.cursor()"
      ]
    },
    {
      "cell_type": "code",
      "execution_count": 3,
      "metadata": {
        "trusted": true
      },
      "outputs": [],
      "source": [
        "import pandas\n",
        "\n",
        "csv_names   = ['ChicagoCensusData.csv', 'ChicagoCrimeData.csv', 'ChicagoPublicSchools.csv']\n",
        "table_names = ['censusData',            'crimeData',            'publicSchools']\n",
        "\n",
        "for csv_name, db_name in zip(csv_names, table_names):\n",
        "    df = pandas.read_csv(csv_name)\n",
        "    df.to_sql(db_name, con, if_exists='replace', index=False)"
      ]
    },
    {
      "cell_type": "code",
      "execution_count": 5,
      "metadata": {},
      "outputs": [],
      "source": [
        "from tabulate import tabulate"
      ]
    },
    {
      "cell_type": "markdown",
      "metadata": {},
      "source": [
        "Problem 1: Find the total number of crimes recorded in the CRIME table."
      ]
    },
    {
      "cell_type": "code",
      "execution_count": 6,
      "metadata": {
        "tags": [],
        "trusted": true
      },
      "outputs": [
        {
          "name": "stdout",
          "output_type": "stream",
          "text": [
            "  COUNT(DISTINCT ID)\n",
            "--------------------\n",
            "                 533\n"
          ]
        }
      ],
      "source": [
        "cur.execute(\"\"\"\n",
        "    SELECT\n",
        "        COUNT(DISTINCT ID)\n",
        "    FROM\n",
        "        crimeData\n",
        "\"\"\")\n",
        "\n",
        "print(\n",
        "    tabulate(\n",
        "        cur.fetchall(),\n",
        "        headers= [\n",
        "            'COUNT(DISTINCT ID)'\n",
        "        ]\n",
        "    )\n",
        ")"
      ]
    },
    {
      "attachments": {},
      "cell_type": "markdown",
      "metadata": {},
      "source": [
        "Problem 2: List community areas with per capita income less than 11000."
      ]
    },
    {
      "cell_type": "code",
      "execution_count": 7,
      "metadata": {},
      "outputs": [
        {
          "name": "stdout",
          "output_type": "stream",
          "text": [
            "  COMMUNITY_AREA_NUMBER  COMMUNITY_AREA_NAME      PER_CAPITA_INCOME\n",
            "-----------------------  ---------------------  -------------------\n",
            "                     26  West Garfield Park                   10934\n",
            "                     30  South Lawndale                       10402\n",
            "                     37  Fuller Park                          10432\n",
            "                     54  Riverdale                             8201\n"
          ]
        }
      ],
      "source": [
        "cur.execute(\"\"\"\n",
        "    SELECT\n",
        "        COMMUNITY_AREA_NUMBER,\n",
        "        COMMUNITY_AREA_NAME,\n",
        "        PER_CAPITA_INCOME\n",
        "    FROM\n",
        "        censusData\n",
        "    WHERE\n",
        "        PER_CAPITA_INCOME < 11000\n",
        "\"\"\")\n",
        "\n",
        "print(\n",
        "    tabulate(\n",
        "        cur.fetchall(),\n",
        "        headers= [\n",
        "            'COMMUNITY_AREA_NUMBER',\n",
        "            'COMMUNITY_AREA_NAME',\n",
        "            'PER_CAPITA_INCOME'\n",
        "        ]\n",
        "    )\n",
        ")"
      ]
    },
    {
      "attachments": {},
      "cell_type": "markdown",
      "metadata": {},
      "source": [
        "Problem 3: List all case numbers for crimes  involving minors?(children are not considered minors for the purposes of crime analysis)"
      ]
    },
    {
      "cell_type": "code",
      "execution_count": 8,
      "metadata": {},
      "outputs": [
        {
          "name": "stdout",
          "output_type": "stream",
          "text": [
            "     ID  CASE_NUMBER    PRIMARY_TYPE          DESCRIPTION\n",
            "-------  -------------  --------------------  -----------------------------\n",
            "3987219  HL266884       LIQUOR LAW VIOLATION  SELL/GIVE/DEL LIQUOR TO MINOR\n",
            "3266814  HK238408       LIQUOR LAW VIOLATION  ILLEGAL CONSUMPTION BY MINOR\n"
          ]
        }
      ],
      "source": [
        "cur.execute(\"\"\"\n",
        "    SELECT\n",
        "        ID,\n",
        "        CASE_NUMBER,\n",
        "        PRIMARY_TYPE,\n",
        "        DESCRIPTION\n",
        "    FROM\n",
        "        crimeData\n",
        "    WHERE\n",
        "        LOWER(DESCRIPTION) LIKE '%minor%'\n",
        "\"\"\")\n",
        "\n",
        "print(\n",
        "    tabulate(\n",
        "        cur.fetchall(),\n",
        "        headers= [\n",
        "            'ID',\n",
        "            'CASE_NUMBER',\n",
        "            'PRIMARY_TYPE',\n",
        "            'DESCRIPTION'\n",
        "        ]\n",
        "    )\n",
        ")"
      ]
    },
    {
      "attachments": {},
      "cell_type": "markdown",
      "metadata": {},
      "source": [
        "Problem 4: List all kidnapping crimes involving a child?"
      ]
    },
    {
      "cell_type": "code",
      "execution_count": 9,
      "metadata": {},
      "outputs": [
        {
          "name": "stdout",
          "output_type": "stream",
          "text": [
            "     ID  CASE_NUMBER    PRIMARY_TYPE    DESCRIPTION\n",
            "-------  -------------  --------------  ------------------------\n",
            "5276766  HN144152       KIDNAPPING      CHILD ABDUCTION/STRANGER\n"
          ]
        }
      ],
      "source": [
        "cur.execute(\"\"\"\n",
        "    SELECT\n",
        "        ID,\n",
        "        CASE_NUMBER,\n",
        "        PRIMARY_TYPE,\n",
        "        DESCRIPTION\n",
        "    FROM\n",
        "        crimeData\n",
        "    WHERE\n",
        "        PRIMARY_TYPE = 'KIDNAPPING'\n",
        "        AND LOWER(DESCRIPTION) LIKE '%child%'\n",
        "\"\"\")\n",
        "\n",
        "print(\n",
        "    tabulate(\n",
        "        cur.fetchall(),\n",
        "        headers= [\n",
        "            'ID',\n",
        "            'CASE_NUMBER',\n",
        "            'PRIMARY_TYPE',\n",
        "            'DESCRIPTION'\n",
        "        ]\n",
        "    )\n",
        ")"
      ]
    },
    {
      "attachments": {},
      "cell_type": "markdown",
      "metadata": {},
      "source": [
        "Problem 5: What kind of crimes were recorded at schools?"
      ]
    },
    {
      "cell_type": "code",
      "execution_count": 10,
      "metadata": {},
      "outputs": [
        {
          "name": "stdout",
          "output_type": "stream",
          "text": [
            "      ID  CASE_NUMBER    PRIMARY_TYPE            DESCRIPTION                     LOCATION_DESCRIPTION\n",
            "--------  -------------  ----------------------  ------------------------------  -------------------------\n",
            " 4006321  HL353697       BATTERY                 SIMPLE                          SCHOOL, PUBLIC, GROUNDS\n",
            " 4430638  HL725506       BATTERY                 PRO EMP HANDS NO/MIN INJURY     SCHOOL, PUBLIC, BUILDING\n",
            " 6644618  HP716225       BATTERY                 SIMPLE                          SCHOOL, PUBLIC, BUILDING\n",
            " 2341955  HH639427       BATTERY                 SIMPLE                          SCHOOL, PUBLIC, BUILDING\n",
            "11110571  JA460432       BATTERY                 SIMPLE                          SCHOOL, PUBLIC, GROUNDS\n",
            " 7399281  HS200939       CRIMINAL DAMAGE         TO VEHICLE                      SCHOOL, PUBLIC, GROUNDS\n",
            " 3530721  HK577020       NARCOTICS               POSS: HEROIN(WHITE)             SCHOOL, PUBLIC, GROUNDS\n",
            " 7502426  HS305355       NARCOTICS               MANU/DEL:CANNABIS 10GM OR LESS  SCHOOL, PUBLIC, BUILDING\n",
            " 8082600  HT315369       ASSAULT                 PRO EMP HANDS NO/MIN INJURY     SCHOOL, PUBLIC, GROUNDS\n",
            " 7174283  HR585012       CRIMINAL TRESPASS       TO LAND                         SCHOOL, PUBLIC, GROUNDS\n",
            " 2075734  HH292682       PUBLIC PEACE VIOLATION  BOMB THREAT                     SCHOOL, PRIVATE, BUILDING\n",
            " 1806896  G635735        PUBLIC PEACE VIOLATION  BOMB THREAT                     SCHOOL, PUBLIC, BUILDING\n"
          ]
        }
      ],
      "source": [
        "cur.execute(\"\"\"\n",
        "    SELECT\n",
        "        ID,\n",
        "        CASE_NUMBER,\n",
        "        PRIMARY_TYPE,\n",
        "        DESCRIPTION,\n",
        "        LOCATION_DESCRIPTION\n",
        "    FROM\n",
        "        crimeData\n",
        "    WHERE\n",
        "        LOWER(LOCATION_DESCRIPTION) LIKE '%school%'\n",
        "\"\"\")\n",
        "\n",
        "print(\n",
        "    tabulate(\n",
        "        cur.fetchall(),\n",
        "        headers= [\n",
        "            'ID',\n",
        "            'CASE_NUMBER',\n",
        "            'PRIMARY_TYPE',\n",
        "            'DESCRIPTION',\n",
        "            'LOCATION_DESCRIPTION'\n",
        "        ]\n",
        "    )\n",
        ")"
      ]
    },
    {
      "attachments": {},
      "cell_type": "markdown",
      "metadata": {},
      "source": [
        "Problem 6: List the average safety score for all types of schools."
      ]
    },
    {
      "cell_type": "code",
      "execution_count": 11,
      "metadata": {},
      "outputs": [
        {
          "name": "stdout",
          "output_type": "stream",
          "text": [
            "Elementary, Middle, or High School      AVG(SAFETY_SCORE)\n",
            "------------------------------------  -------------------\n",
            "ES                                                49.5204\n",
            "HS                                                49.6235\n",
            "MS                                                48\n"
          ]
        }
      ],
      "source": [
        "cur.execute(\"\"\"\n",
        "    SELECT\n",
        "        \"Elementary, Middle, or High School\",\n",
        "        AVG(SAFETY_SCORE)\n",
        "    FROM\n",
        "        publicSchools\n",
        "    GROUP BY\n",
        "        \"Elementary, Middle, or High School\"\n",
        "\"\"\")\n",
        "\n",
        "print(\n",
        "    tabulate(\n",
        "        cur.fetchall(),\n",
        "        headers= [\n",
        "            \"Elementary, Middle, or High School\",\n",
        "            'AVG(SAFETY_SCORE)'\n",
        "        ]\n",
        "    )\n",
        ")"
      ]
    },
    {
      "attachments": {},
      "cell_type": "markdown",
      "metadata": {},
      "source": [
        "Problem 7: List 5 community areas with highest % of households below poverty line."
      ]
    },
    {
      "cell_type": "code",
      "execution_count": 12,
      "metadata": {},
      "outputs": [
        {
          "name": "stdout",
          "output_type": "stream",
          "text": [
            "  COMMUNITY_AREA_NUMBER  COMMUNITY_AREA_NAME      PERCENT_HOUSEHOLDS_BELOW_POVERTY\n",
            "-----------------------  ---------------------  ----------------------------------\n",
            "                     54  Riverdale                                            56.5\n",
            "                     37  Fuller Park                                          51.2\n",
            "                     68  Englewood                                            46.6\n",
            "                     29  North Lawndale                                       43.1\n",
            "                     27  East Garfield Park                                   42.4\n"
          ]
        }
      ],
      "source": [
        "cur.execute(\"\"\"\n",
        "    SELECT\n",
        "        COMMUNITY_AREA_NUMBER,\n",
        "        COMMUNITY_AREA_NAME,\n",
        "        PERCENT_HOUSEHOLDS_BELOW_POVERTY\n",
        "    FROM\n",
        "        censusData\n",
        "    ORDER BY\n",
        "        PERCENT_HOUSEHOLDS_BELOW_POVERTY DESC\n",
        "    LIMIT 5\n",
        "\"\"\")\n",
        "\n",
        "print(\n",
        "    tabulate(\n",
        "        cur.fetchall(),\n",
        "        headers= [\n",
        "            'COMMUNITY_AREA_NUMBER',\n",
        "            'COMMUNITY_AREA_NAME',\n",
        "            'PERCENT_HOUSEHOLDS_BELOW_POVERTY'\n",
        "        ]\n",
        "    )\n",
        ")"
      ]
    },
    {
      "attachments": {},
      "cell_type": "markdown",
      "metadata": {},
      "source": [
        "Problem 8: Which community area(number) is most crime prone?"
      ]
    },
    {
      "cell_type": "code",
      "execution_count": 13,
      "metadata": {},
      "outputs": [
        {
          "name": "stdout",
          "output_type": "stream",
          "text": [
            "  COMMUNITY_AREA_NUMBER    numberOfCrimes\n",
            "-----------------------  ----------------\n",
            "                     25                43\n"
          ]
        }
      ],
      "source": [
        "cur.execute(\"\"\"\n",
        "    SELECT\n",
        "        COMMUNITY_AREA_NUMBER,\n",
        "        COUNT(*) AS 'numberOfCrimes'\n",
        "    FROM\n",
        "        crimeData\n",
        "    GROUP BY\n",
        "        COMMUNITY_AREA_NUMBER\n",
        "    ORDER BY\n",
        "        numberOfCrimes DESC\n",
        "    LIMIT 1\n",
        "\"\"\")\n",
        "\n",
        "print(\n",
        "    tabulate(\n",
        "        cur.fetchall(),\n",
        "        headers= [\n",
        "            'COMMUNITY_AREA_NUMBER',\n",
        "            'numberOfCrimes'\n",
        "        ]\n",
        "    )\n",
        ")"
      ]
    },
    {
      "attachments": {},
      "cell_type": "markdown",
      "metadata": {},
      "source": [
        "Problem 9: Use a sub-query to find the name of the community area with highest hardship index."
      ]
    },
    {
      "cell_type": "code",
      "execution_count": 14,
      "metadata": {},
      "outputs": [
        {
          "name": "stdout",
          "output_type": "stream",
          "text": [
            "  COMMUNITY_AREA_NUMBER  COMMUNITY_AREA_NAME      HARDSHIP_INDEX\n",
            "-----------------------  ---------------------  ----------------\n",
            "                     54  Riverdale                            98\n"
          ]
        }
      ],
      "source": [
        "cur.execute(\"\"\"\n",
        "    SELECT\n",
        "        COMMUNITY_AREA_NUMBER,\n",
        "        COMMUNITY_AREA_NAME,\n",
        "        HARDSHIP_INDEX\n",
        "    FROM\n",
        "        censusData\n",
        "    WHERE\n",
        "        HARDSHIP_INDEX = (\n",
        "            SELECT\n",
        "                MAX(HARDSHIP_INDEX)\n",
        "            FROM\n",
        "                censusData\n",
        "        )\n",
        "\"\"\")\n",
        "\n",
        "print(\n",
        "    tabulate(\n",
        "        cur.fetchall(),\n",
        "        headers= [\n",
        "            'COMMUNITY_AREA_NUMBER',\n",
        "            'COMMUNITY_AREA_NAME',\n",
        "            'HARDSHIP_INDEX'\n",
        "        ]\n",
        "    )\n",
        ")"
      ]
    },
    {
      "attachments": {},
      "cell_type": "markdown",
      "metadata": {},
      "source": [
        "Problem 10: Use a sub-query to determine the Community Area Name with most number of crimes?"
      ]
    },
    {
      "cell_type": "code",
      "execution_count": 15,
      "metadata": {},
      "outputs": [
        {
          "name": "stdout",
          "output_type": "stream",
          "text": [
            "COMMUNITY_AREA_NAME\n",
            "---------------------\n",
            "Edgewater\n"
          ]
        }
      ],
      "source": [
        "cur.execute(\"\"\"\n",
        "    SELECT\n",
        "        COMMUNITY_AREA_NAME\n",
        "    FROM\n",
        "        censusData\n",
        "    WHERE\n",
        "        COMMUNITY_AREA_NUMBER = (\n",
        "            SELECT\n",
        "                COMMUNITY_AREA_NUMBER\n",
        "            FROM\n",
        "                censusData\n",
        "            GROUP BY\n",
        "                COMMUNITY_AREA_NUMBER\n",
        "            ORDER BY\n",
        "                COUNT(COMMUNITY_AREA_NUMBER) DESC\n",
        "            LIMIT 1\n",
        "        )\n",
        "    LIMIT 1\n",
        "\"\"\")\n",
        "\n",
        "print(\n",
        "    tabulate(\n",
        "        cur.fetchall(),\n",
        "        headers= [\n",
        "            'COMMUNITY_AREA_NAME'\n",
        "        ]\n",
        "    )\n",
        ")"
      ]
    }
  ],
  "metadata": {
    "kernelspec": {
      "display_name": ".venv",
      "language": "python",
      "name": "python3"
    },
    "language_info": {
      "codemirror_mode": {
        "name": "ipython",
        "version": 3
      },
      "file_extension": ".py",
      "mimetype": "text/x-python",
      "name": "python",
      "nbconvert_exporter": "python",
      "pygments_lexer": "ipython3",
      "version": "3.11.0"
    }
  },
  "nbformat": 4,
  "nbformat_minor": 4
}
